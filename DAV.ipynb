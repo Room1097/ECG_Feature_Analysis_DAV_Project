{
  "nbformat": 4,
  "nbformat_minor": 0,
  "metadata": {
    "colab": {
      "provenance": [],
      "include_colab_link": true
    },
    "kernelspec": {
      "name": "python3",
      "display_name": "Python 3"
    },
    "language_info": {
      "name": "python"
    }
  },
  "cells": [
    {
      "cell_type": "markdown",
      "metadata": {
        "id": "view-in-github",
        "colab_type": "text"
      },
      "source": [
        "<a href=\"https://colab.research.google.com/github/Room1097/ECG_Feature_Analysis_DAV_Project/blob/main/DAV.ipynb\" target=\"_parent\"><img src=\"https://colab.research.google.com/assets/colab-badge.svg\" alt=\"Open In Colab\"/></a>"
      ]
    },
    {
      "cell_type": "code",
      "source": [
        "!pip install neurokit2"
      ],
      "metadata": {
        "id": "BfbBy9B400Ak",
        "outputId": "2e8eb45b-2071-4670-8515-4d4b4fdfff3b",
        "colab": {
          "base_uri": "https://localhost:8080/"
        }
      },
      "execution_count": 5,
      "outputs": [
        {
          "output_type": "stream",
          "name": "stdout",
          "text": [
            "Collecting neurokit2\n",
            "  Downloading neurokit2-0.2.10-py2.py3-none-any.whl.metadata (37 kB)\n",
            "Requirement already satisfied: requests in /usr/local/lib/python3.11/dist-packages (from neurokit2) (2.32.3)\n",
            "Requirement already satisfied: numpy in /usr/local/lib/python3.11/dist-packages (from neurokit2) (2.0.2)\n",
            "Requirement already satisfied: pandas in /usr/local/lib/python3.11/dist-packages (from neurokit2) (2.2.2)\n",
            "Requirement already satisfied: scipy in /usr/local/lib/python3.11/dist-packages (from neurokit2) (1.14.1)\n",
            "Requirement already satisfied: scikit-learn>=1.0.0 in /usr/local/lib/python3.11/dist-packages (from neurokit2) (1.6.1)\n",
            "Requirement already satisfied: matplotlib in /usr/local/lib/python3.11/dist-packages (from neurokit2) (3.10.0)\n",
            "Requirement already satisfied: joblib>=1.2.0 in /usr/local/lib/python3.11/dist-packages (from scikit-learn>=1.0.0->neurokit2) (1.4.2)\n",
            "Requirement already satisfied: threadpoolctl>=3.1.0 in /usr/local/lib/python3.11/dist-packages (from scikit-learn>=1.0.0->neurokit2) (3.6.0)\n",
            "Requirement already satisfied: contourpy>=1.0.1 in /usr/local/lib/python3.11/dist-packages (from matplotlib->neurokit2) (1.3.1)\n",
            "Requirement already satisfied: cycler>=0.10 in /usr/local/lib/python3.11/dist-packages (from matplotlib->neurokit2) (0.12.1)\n",
            "Requirement already satisfied: fonttools>=4.22.0 in /usr/local/lib/python3.11/dist-packages (from matplotlib->neurokit2) (4.57.0)\n",
            "Requirement already satisfied: kiwisolver>=1.3.1 in /usr/local/lib/python3.11/dist-packages (from matplotlib->neurokit2) (1.4.8)\n",
            "Requirement already satisfied: packaging>=20.0 in /usr/local/lib/python3.11/dist-packages (from matplotlib->neurokit2) (24.2)\n",
            "Requirement already satisfied: pillow>=8 in /usr/local/lib/python3.11/dist-packages (from matplotlib->neurokit2) (11.1.0)\n",
            "Requirement already satisfied: pyparsing>=2.3.1 in /usr/local/lib/python3.11/dist-packages (from matplotlib->neurokit2) (3.2.3)\n",
            "Requirement already satisfied: python-dateutil>=2.7 in /usr/local/lib/python3.11/dist-packages (from matplotlib->neurokit2) (2.8.2)\n",
            "Requirement already satisfied: pytz>=2020.1 in /usr/local/lib/python3.11/dist-packages (from pandas->neurokit2) (2025.2)\n",
            "Requirement already satisfied: tzdata>=2022.7 in /usr/local/lib/python3.11/dist-packages (from pandas->neurokit2) (2025.2)\n",
            "Requirement already satisfied: charset-normalizer<4,>=2 in /usr/local/lib/python3.11/dist-packages (from requests->neurokit2) (3.4.1)\n",
            "Requirement already satisfied: idna<4,>=2.5 in /usr/local/lib/python3.11/dist-packages (from requests->neurokit2) (3.10)\n",
            "Requirement already satisfied: urllib3<3,>=1.21.1 in /usr/local/lib/python3.11/dist-packages (from requests->neurokit2) (2.3.0)\n",
            "Requirement already satisfied: certifi>=2017.4.17 in /usr/local/lib/python3.11/dist-packages (from requests->neurokit2) (2025.1.31)\n",
            "Requirement already satisfied: six>=1.5 in /usr/local/lib/python3.11/dist-packages (from python-dateutil>=2.7->matplotlib->neurokit2) (1.17.0)\n",
            "Downloading neurokit2-0.2.10-py2.py3-none-any.whl (693 kB)\n",
            "\u001b[2K   \u001b[90m━━━━━━━━━━━━━━━━━━━━━━━━━━━━━━━━━━━━━━━━\u001b[0m \u001b[32m693.1/693.1 kB\u001b[0m \u001b[31m12.4 MB/s\u001b[0m eta \u001b[36m0:00:00\u001b[0m\n",
            "\u001b[?25hInstalling collected packages: neurokit2\n",
            "Successfully installed neurokit2-0.2.10\n"
          ]
        }
      ]
    },
    {
      "cell_type": "code",
      "execution_count": 6,
      "metadata": {
        "id": "tm4ZPRCPezZP"
      },
      "outputs": [],
      "source": [
        "import pandas as pd\n",
        "import numpy as np\n",
        "from scipy.stats import skew, kurtosis, entropy\n",
        "from scipy.signal import find_peaks, welch\n",
        "import neurokit2 as nk"
      ]
    },
    {
      "cell_type": "code",
      "source": [
        "from google.colab import drive\n",
        "drive.mount('/content/drive')"
      ],
      "metadata": {
        "id": "yzBZCXspzVOC",
        "outputId": "bf352010-2a2c-41f4-edab-855e2f997ba4",
        "colab": {
          "base_uri": "https://localhost:8080/"
        }
      },
      "execution_count": 2,
      "outputs": [
        {
          "output_type": "stream",
          "name": "stdout",
          "text": [
            "Mounted at /content/drive\n"
          ]
        }
      ]
    },
    {
      "cell_type": "code",
      "source": [
        "# Step 1: Read the CSV and flatten the signal\n",
        "# Define the full path to your CSV file in Google Drive\n",
        "file_path = '/content/drive/My Drive/a01.csv'\n",
        "df = pd.read_csv(file_path, header=None, dtype=str)\n",
        "\n",
        "df = df.replace(r'[^\\d\\.\\-eE]', '', regex=True)\n",
        "\n",
        "df = df.apply(pd.to_numeric, errors='coerce')\n",
        "\n",
        "df = df.ffill(axis=1).bfill(axis=1)\n",
        "\n",
        "ecg_data = df.values.flatten()\n",
        "\n",
        "# Define sampling frequency\n",
        "fs = 100  # Hz"
      ],
      "metadata": {
        "id": "fFwLCO8cu30I"
      },
      "execution_count": 8,
      "outputs": []
    },
    {
      "cell_type": "code",
      "source": [
        "# Step 2: Clean ECG and extract features\n",
        "signals, info = nk.ecg_process(ecg_data, sampling_rate=fs)\n",
        "rpeaks = info['ECG_R_Peaks']\n",
        "rr_intervals = np.diff(rpeaks) / fs\n",
        "hr = 60 / rr_intervals"
      ],
      "metadata": {
        "id": "7dLmi6jbu509"
      },
      "execution_count": 9,
      "outputs": []
    },
    {
      "cell_type": "code",
      "source": [
        "# Time-domain features\n",
        "features = {\n",
        "    \"Mean\": np.mean(ecg_data),\n",
        "    \"Std\": np.std(ecg_data),\n",
        "    \"Var\": np.var(ecg_data),\n",
        "    \"Median\": np.median(ecg_data),\n",
        "    \"Min\": np.min(ecg_data),\n",
        "    \"Max\": np.max(ecg_data),\n",
        "    \"Range\": np.max(ecg_data) - np.min(ecg_data),\n",
        "    \"Q1\": np.percentile(ecg_data, 25),\n",
        "    \"Q3\": np.percentile(ecg_data, 75),\n",
        "    \"IQR\": np.percentile(ecg_data, 75) - np.percentile(ecg_data, 25),\n",
        "    \"Skewness\": skew(ecg_data),\n",
        "    \"Kurtosis\": kurtosis(ecg_data),\n",
        "    \"RMS\": np.sqrt(np.mean(np.square(ecg_data))),\n",
        "    \"Zero_Crossings\": ((ecg_data[:-1] * ecg_data[1:]) < 0).sum(),\n",
        "    \"Signal_Energy\": np.sum(ecg_data ** 2),\n",
        "    \"Signal_Entropy\": entropy(np.histogram(ecg_data, bins=50, density=True)[0]),\n",
        "    \"Mean_Absolute_Diff\": np.mean(np.abs(np.diff(ecg_data))),\n",
        "    \"STD_Absolute_Diff\": np.std(np.abs(np.diff(ecg_data))),\n",
        "    \"Symmetry_Index\": np.mean(ecg_data[:len(ecg_data)//2]) - np.mean(ecg_data[len(ecg_data)//2:]),\n",
        "}"
      ],
      "metadata": {
        "id": "pWzK0_rEzCvc"
      },
      "execution_count": 10,
      "outputs": []
    },
    {
      "cell_type": "code",
      "source": [
        "# Frequency-domain features using Welch's method\n",
        "frequencies, power = welch(ecg_data, fs, nperseg=1024)\n",
        "features.update({\n",
        "    \"Total_Power\": np.trapezoid(power, frequencies),\n",
        "    \"VLF_Power\": np.trapezoid(power[(frequencies >= 0.003) & (frequencies < 0.04)],\n",
        "                               frequencies[(frequencies >= 0.003) & (frequencies < 0.04)]),\n",
        "    \"LF_Power\": np.trapezoid(power[(frequencies >= 0.04) & (frequencies < 0.15)],\n",
        "                              frequencies[(frequencies >= 0.04) & (frequencies < 0.15)]),\n",
        "    \"HF_Power\": np.trapezoid(power[(frequencies >= 0.15) & (frequencies < 0.4)],\n",
        "                              frequencies[(frequencies >= 0.15) & (frequencies < 0.4)]),\n",
        "})\n"
      ],
      "metadata": {
        "id": "iQrIRXbWzEeo"
      },
      "execution_count": 12,
      "outputs": []
    },
    {
      "cell_type": "code",
      "source": [
        "# LF/HF Ratio\n",
        "lf = features[\"LF_Power\"]\n",
        "hf = features[\"HF_Power\"]\n",
        "features[\"LF_HF_Ratio\"] = lf / hf if hf != 0 else np.nan"
      ],
      "metadata": {
        "id": "YHzsPk54zGDq"
      },
      "execution_count": 13,
      "outputs": []
    },
    {
      "cell_type": "code",
      "source": [
        "# HRV features\n",
        "features.update({\n",
        "    \"Num_Beats\": len(rpeaks),\n",
        "    \"Mean_RR\": np.mean(rr_intervals),\n",
        "    \"STD_RR\": np.std(rr_intervals),\n",
        "    \"Min_RR\": np.min(rr_intervals),\n",
        "    \"Max_RR\": np.max(rr_intervals),\n",
        "    \"Mean_HR\": np.mean(hr),\n",
        "    \"SDNN\": np.std(rr_intervals),\n",
        "    \"RMSSD\": np.sqrt(np.mean(np.square(np.diff(rr_intervals)))),\n",
        "    \"NN50\": np.sum(np.abs(np.diff(rr_intervals)) > 0.05),\n",
        "    \"pNN50\": np.sum(np.abs(np.diff(rr_intervals)) > 0.05) / len(rr_intervals) * 100,\n",
        "})"
      ],
      "metadata": {
        "id": "T9S4EEnwzIIf"
      },
      "execution_count": 14,
      "outputs": []
    },
    {
      "cell_type": "code",
      "source": [
        "output_path = \"/content/drive/My Drive/extracted_ecg_features.csv\"\n",
        "\n",
        "# Save features to CSV in Google Drive\n",
        "features_df = pd.DataFrame([features])\n",
        "features_df.to_csv(output_path, index=False)\n",
        "\n",
        "print(f\"✅ Features extracted and saved to: {output_path}\")\n"
      ],
      "metadata": {
        "colab": {
          "base_uri": "https://localhost:8080/"
        },
        "id": "liEAbcHvu0gl",
        "outputId": "03fa0eec-909e-41ce-a5c4-e409a5a65d35"
      },
      "execution_count": 16,
      "outputs": [
        {
          "output_type": "stream",
          "name": "stdout",
          "text": [
            "✅ Features extracted and saved to: /content/drive/My Drive/extracted_ecg_features.csv\n"
          ]
        }
      ]
    }
  ]
}